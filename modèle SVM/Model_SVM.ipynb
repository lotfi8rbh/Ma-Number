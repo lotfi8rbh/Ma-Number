{
 "cells": [
  {
   "cell_type": "markdown",
   "id": "323e0795",
   "metadata": {},
   "source": [
    "# Bibliothèques"
   ]
  },
  {
   "cell_type": "code",
   "execution_count": 2,
   "id": "fb1738e3",
   "metadata": {},
   "outputs": [
    {
     "ename": "ModuleNotFoundError",
     "evalue": "No module named 'skimage'",
     "output_type": "error",
     "traceback": [
      "\u001b[0;31m---------------------------------------------------------------------------\u001b[0m",
      "\u001b[0;31mModuleNotFoundError\u001b[0m                       Traceback (most recent call last)",
      "Cell \u001b[0;32mIn[2], line 12\u001b[0m\n\u001b[1;32m     10\u001b[0m \u001b[38;5;28;01mfrom\u001b[39;00m \u001b[38;5;21;01msklearn\u001b[39;00m\u001b[38;5;21;01m.\u001b[39;00m\u001b[38;5;21;01mmodel_selection\u001b[39;00m \u001b[38;5;28;01mimport\u001b[39;00m GridSearchCV\n\u001b[1;32m     11\u001b[0m \u001b[38;5;28;01mfrom\u001b[39;00m \u001b[38;5;21;01msklearn\u001b[39;00m\u001b[38;5;21;01m.\u001b[39;00m\u001b[38;5;21;01mmetrics\u001b[39;00m \u001b[38;5;28;01mimport\u001b[39;00m classification_report\n\u001b[0;32m---> 12\u001b[0m \u001b[38;5;28;01mfrom\u001b[39;00m \u001b[38;5;21;01mskimage\u001b[39;00m\u001b[38;5;21;01m.\u001b[39;00m\u001b[38;5;21;01mfilters\u001b[39;00m \u001b[38;5;28;01mimport\u001b[39;00m threshold_otsu\n",
      "\u001b[0;31mModuleNotFoundError\u001b[0m: No module named 'skimage'"
     ]
    }
   ],
   "source": [
    "from sklearn.svm import SVC\n",
    "from sklearn.model_selection import train_test_split\n",
    "from sklearn.metrics import accuracy_score, classification_report, confusion_matrix\n",
    "import numpy as np\n",
    "import matplotlib.pyplot as plt\n",
    "import seaborn as sns\n",
    "from sklearn.datasets import fetch_openml\n",
    "from collections import Counter\n",
    "from sklearn.preprocessing import StandardScaler\n",
    "from sklearn.model_selection import GridSearchCV\n",
    "from sklearn.metrics import classification_report\n",
    "from skimage.filters import threshold_otsu"
   ]
  },
  {
   "cell_type": "markdown",
   "id": "ac23c11a",
   "metadata": {},
   "source": [
    "# Modèle"
   ]
  },
  {
   "cell_type": "code",
   "execution_count": 155,
   "id": "bccce7f2",
   "metadata": {},
   "outputs": [
    {
     "name": "stdout",
     "output_type": "stream",
     "text": [
      "Counter({np.int64(0): 700, np.int64(1): 700, np.int64(2): 700, np.int64(3): 700, np.int64(4): 700, np.int64(5): 700, np.int64(6): 700, np.int64(7): 700, np.int64(8): 700, np.int64(9): 700})\n"
     ]
    }
   ],
   "source": [
    "X, y = fetch_openml('mnist_784', version=1, return_X_y=True, as_frame=False)\n",
    "y = y.astype(int)\n",
    "\n",
    "\n",
    "X_binarized = np.zeros_like(X)  \n",
    "for i in range(X.shape[0]):\n",
    "    thresh = threshold_otsu(X[i])\n",
    "    X_binarized[i] = (X[i] > thresh).astype(int)\n",
    "\n",
    "# Réduire les données\n",
    "def reduce_data(X, y, samples_per_class=700):\n",
    "    reduced_X = []\n",
    "    reduced_y = []\n",
    "    for label in np.unique(y):\n",
    "        indices = np.where(y == label)[0][:samples_per_class]\n",
    "        reduced_X.append(X[indices])\n",
    "        reduced_y.append(y[indices])\n",
    "    return np.vstack(reduced_X), np.hstack(reduced_y)\n",
    "\n",
    "X_reduced, y_reduced = reduce_data(X_binarized, y, samples_per_class=700)\n",
    "\n",
    "print(Counter(y_reduced))\n"
   ]
  },
  {
   "cell_type": "markdown",
   "id": "e9e03196",
   "metadata": {},
   "source": [
    "## diviser les données et entrainement du model"
   ]
  },
  {
   "cell_type": "code",
   "execution_count": null,
   "id": "41dbb554",
   "metadata": {},
   "outputs": [
    {
     "name": "stdout",
     "output_type": "stream",
     "text": [
      "Modèle pour la classe 0 entraîné.\n",
      "Modèle pour la classe 1 entraîné.\n",
      "Modèle pour la classe 2 entraîné.\n",
      "Modèle pour la classe 3 entraîné.\n",
      "Modèle pour la classe 4 entraîné.\n",
      "Modèle pour la classe 5 entraîné.\n",
      "Modèle pour la classe 6 entraîné.\n",
      "Modèle pour la classe 7 entraîné.\n",
      "Modèle pour la classe 8 entraîné.\n",
      "Modèle pour la classe 9 entraîné.\n"
     ]
    }
   ],
   "source": [
    "X_train, X_test, y_train, y_test = train_test_split(X_reduced, y_reduced, test_size=0.2, random_state=42)\n",
    "\n",
    "svm_models = []\n",
    "for i in range(10):\n",
    "    y_binary = np.where(y_train == i, 1, -1)  # Binariser les labels pour chaque classe\n",
    "    model = SVC(kernel='rbf', C=1.0, gamma=0.001)\n",
    "    model.fit(X_train, y_binary)\n",
    "    svm_models.append(model)\n",
    "    print(f\"Modèle pour la classe {i} entraîné.\")"
   ]
  },
  {
   "cell_type": "markdown",
   "id": "32acb8c7",
   "metadata": {},
   "source": [
    "## fonction de prédiction"
   ]
  },
  {
   "cell_type": "code",
   "execution_count": 151,
   "id": "0584bca3",
   "metadata": {},
   "outputs": [],
   "source": [
    "def predict_ova(models, X):\n",
    "    decision_values = np.array([model.decision_function(X) for model in models])\n",
    "    return np.argmax(decision_values, axis=0)"
   ]
  },
  {
   "cell_type": "markdown",
   "id": "345f4cac",
   "metadata": {},
   "source": [
    "## calcul de précision"
   ]
  },
  {
   "cell_type": "code",
   "execution_count": 184,
   "id": "2ca4aa22",
   "metadata": {},
   "outputs": [
    {
     "name": "stdout",
     "output_type": "stream",
     "text": [
      "Accuracy sur les données de test : 86.93%\n",
      "\n",
      "Classification Report :\n",
      "              precision    recall  f1-score   support\n",
      "\n",
      "           0       0.92      0.95      0.94       153\n",
      "           1       0.90      0.97      0.93       136\n",
      "           2       0.87      0.82      0.84       153\n",
      "           3       0.81      0.83      0.82       126\n",
      "           4       0.82      0.89      0.86       143\n",
      "           5       0.86      0.76      0.81       142\n",
      "           6       0.86      0.96      0.91       130\n",
      "           7       0.89      0.86      0.88       144\n",
      "           8       0.91      0.81      0.86       144\n",
      "           9       0.84      0.84      0.84       129\n",
      "\n",
      "    accuracy                           0.87      1400\n",
      "   macro avg       0.87      0.87      0.87      1400\n",
      "weighted avg       0.87      0.87      0.87      1400\n",
      "\n"
     ]
    }
   ],
   "source": [
    "y_pred = predict_ova(svm_models, X_test)\n",
    "\n",
    "accuracy = accuracy_score(y_test, y_pred)\n",
    "print(f\"Accuracy sur les données de test : {accuracy * 100:.2f}%\")\n",
    "\n",
    "print(\"\\nClassification Report :\")\n",
    "print(classification_report(y_test, y_pred))"
   ]
  },
  {
   "cell_type": "code",
   "execution_count": 152,
   "id": "2fb00665",
   "metadata": {},
   "outputs": [
    {
     "name": "stdout",
     "output_type": "stream",
     "text": [
      "\n",
      "Matrice de confusion :\n"
     ]
    },
    {
     "data": {
      "image/png": "[encoded data removed]",
      "text/plain": [
       "<Figure size 1000x800 with 2 Axes>"
      ]
     },
     "metadata": {},
     "output_type": "display_data"
    }
   ],
   "source": [
    "conf_matrix = confusion_matrix(y_test, y_pred)\n",
    "print(\"\\nMatrice de confusion :\")\n",
    "\n",
    "plt.figure(figsize=(10, 8))\n",
    "sns.heatmap(conf_matrix, annot=True, fmt='d', cmap='Blues', xticklabels=range(10), yticklabels=range(10))\n",
    "plt.xlabel('Predicted Label')\n",
    "plt.ylabel('True Label')\n",
    "plt.title('Matrice de Confusion')\n",
    "plt.show()\n"
   ]
  },
  {
   "cell_type": "code",
   "execution_count": 156,
   "id": "5e07aea5",
   "metadata": {},
   "outputs": [
    {
     "name": "stdout",
     "output_type": "stream",
     "text": [
      "Fitting 3 folds for each of 16 candidates, totalling 48 fits\n",
      "Meilleurs paramètres trouvés : {'C': 10, 'gamma': 0.01, 'kernel': 'rbf'}\n",
      "Meilleure précision : 0.9551784409957417\n",
      "              precision    recall  f1-score   support\n",
      "\n",
      "           0       0.00      0.00      0.00      6903\n",
      "           1       0.00      0.00      0.00      7877\n",
      "           2       0.00      0.00      0.00      6990\n",
      "           3       0.00      0.00      0.00      7141\n",
      "           4       0.00      0.00      0.00      6824\n",
      "           5       0.00      0.00      0.00      6313\n",
      "           6       0.00      0.00      0.00      6876\n",
      "           7       0.00      0.00      0.00      7293\n",
      "           8       0.10      1.00      0.18      6825\n",
      "           9       0.00      0.00      0.00      6958\n",
      "\n",
      "    accuracy                           0.10     70000\n",
      "   macro avg       0.01      0.10      0.02     70000\n",
      "weighted avg       0.01      0.10      0.02     70000\n",
      "\n"
     ]
    },
    {
     "name": "stderr",
     "output_type": "stream",
     "text": [
      "/Users/raniabouzroud/Desktop/analyse et visualisation de données/venv_global/lib/python3.12/site-packages/sklearn/metrics/_classification.py:1531: UndefinedMetricWarning: Precision is ill-defined and being set to 0.0 in labels with no predicted samples. Use `zero_division` parameter to control this behavior.\n",
      "  _warn_prf(average, modifier, f\"{metric.capitalize()} is\", len(result))\n",
      "/Users/raniabouzroud/Desktop/analyse et visualisation de données/venv_global/lib/python3.12/site-packages/sklearn/metrics/_classification.py:1531: UndefinedMetricWarning: Precision is ill-defined and being set to 0.0 in labels with no predicted samples. Use `zero_division` parameter to control this behavior.\n",
      "  _warn_prf(average, modifier, f\"{metric.capitalize()} is\", len(result))\n",
      "/Users/raniabouzroud/Desktop/analyse et visualisation de données/venv_global/lib/python3.12/site-packages/sklearn/metrics/_classification.py:1531: UndefinedMetricWarning: Precision is ill-defined and being set to 0.0 in labels with no predicted samples. Use `zero_division` parameter to control this behavior.\n",
      "  _warn_prf(average, modifier, f\"{metric.capitalize()} is\", len(result))\n"
     ]
    }
   ],
   "source": [
    "param_grid = {\n",
    "    'C': [0.1, 1, 10, 100],  \n",
    "    'gamma': [0.001, 0.01, 0.1, 1],  \n",
    "    'kernel': ['rbf']\n",
    "}\n",
    "\n",
    "grid_search = GridSearchCV(\n",
    "    estimator=SVC(),\n",
    "    param_grid=param_grid,\n",
    "    scoring='accuracy',  \n",
    "    cv=3,  \n",
    "    verbose=1,\n",
    "    n_jobs=-1  \n",
    ")\n",
    "\n",
    "grid_search.fit(X_train, y_train)\n",
    "\n",
    "print(\"Meilleurs paramètres trouvés :\", grid_search.best_params_)\n",
    "print(\"Meilleure précision :\", grid_search.best_score_)\n",
    "\n",
    "best_model = grid_search.best_estimator_\n",
    "y_predm = best_model.predict(X)\n",
    "print(classification_report(y, y_predm))"
   ]
  },
  {
   "cell_type": "code",
   "execution_count": null,
   "id": "2ff0cad3",
   "metadata": {},
   "outputs": [
    {
     "name": "stdout",
     "output_type": "stream",
     "text": [
      "Classe 0 :\n",
      " - Nombre de vecteurs supports : 539\n",
      " - Dual coefficients (shape): (1, 539)\n",
      " - Biais : -1.7424263530719437\n",
      "===================================\n",
      "Classe 1 :\n",
      " - Nombre de vecteurs supports : 598\n",
      " - Dual coefficients (shape): (1, 598)\n",
      " - Biais : -3.722068534583427\n",
      "===================================\n",
      "Classe 2 :\n",
      " - Nombre de vecteurs supports : 818\n",
      " - Dual coefficients (shape): (1, 818)\n",
      " - Biais : -1.4396847272782807\n",
      "===================================\n",
      "Classe 3 :\n",
      " - Nombre de vecteurs supports : 867\n",
      " - Dual coefficients (shape): (1, 867)\n",
      " - Biais : -1.6452911986648335\n",
      "===================================\n",
      "Classe 4 :\n",
      " - Nombre de vecteurs supports : 875\n",
      " - Dual coefficients (shape): (1, 875)\n",
      " - Biais : -2.8547883648343264\n",
      "===================================\n",
      "Classe 5 :\n",
      " - Nombre de vecteurs supports : 1086\n",
      " - Dual coefficients (shape): (1, 1086)\n",
      " - Biais : -1.8076244022987566\n",
      "===================================\n",
      "Classe 6 :\n",
      " - Nombre de vecteurs supports : 667\n",
      " - Dual coefficients (shape): (1, 667)\n",
      " - Biais : -2.001104315235938\n",
      "===================================\n",
      "Classe 7 :\n",
      " - Nombre de vecteurs supports : 710\n",
      " - Dual coefficients (shape): (1, 710)\n",
      " - Biais : -2.117064067804759\n",
      "===================================\n",
      "Classe 8 :\n",
      " - Nombre de vecteurs supports : 976\n",
      " - Dual coefficients (shape): (1, 976)\n",
      " - Biais : -1.4561865958318772\n",
      "===================================\n",
      "Classe 9 :\n",
      " - Nombre de vecteurs supports : 1120\n",
      " - Dual coefficients (shape): (1, 1120)\n",
      " - Biais : -2.6415166145217857\n",
      "===================================\n"
     ]
    }
   ],
   "source": [
    "for i, model in enumerate(svm_models):\n",
    "    \n",
    "    support_vectors = model.support_vectors_\n",
    "    dual_coefficients = model.dual_coef_\n",
    "    intercept = model.intercept_\n",
    "    \n",
    "    print(f\"Classe {i} :\")\n",
    "    print(f\" - Nombre de vecteurs supports : {support_vectors.shape[0]}\")\n",
    "    print(f\" - Dual coefficients (shape): {dual_coefficients.shape}\")\n",
    "    print(f\" - Biais : {intercept[0]}\")\n",
    "    print(\"===================================\")"
   ]
  },
  {
   "cell_type": "markdown",
   "id": "194b1c9e",
   "metadata": {},
   "source": [
    "\n",
    "## exportation des fichiers des paramètres"
   ]
  },
  {
   "cell_type": "code",
   "execution_count": 159,
   "id": "a47496e0",
   "metadata": {},
   "outputs": [
    {
     "name": "stdout",
     "output_type": "stream",
     "text": [
      "Extraction terminée. Les fichier 0 ont été sauvegardés dans le dossier '/data'.\n",
      "Extraction terminée. Les fichier 1 ont été sauvegardés dans le dossier '/data'.\n",
      "Extraction terminée. Les fichier 2 ont été sauvegardés dans le dossier '/data'.\n",
      "Extraction terminée. Les fichier 3 ont été sauvegardés dans le dossier '/data'.\n",
      "Extraction terminée. Les fichier 4 ont été sauvegardés dans le dossier '/data'.\n",
      "Extraction terminée. Les fichier 5 ont été sauvegardés dans le dossier '/data'.\n",
      "Extraction terminée. Les fichier 6 ont été sauvegardés dans le dossier '/data'.\n",
      "Extraction terminée. Les fichier 7 ont été sauvegardés dans le dossier '/data'.\n",
      "Extraction terminée. Les fichier 8 ont été sauvegardés dans le dossier '/data'.\n",
      "Extraction terminée. Les fichier 9 ont été sauvegardés dans le dossier '/data'.\n"
     ]
    }
   ],
   "source": [
    "for i, model in enumerate(svm_models):\n",
    "    \n",
    "    support_vectors= model.support_vectors_\n",
    "    np.savetxt(f\"data/vecteur_support_{i}.txt\", support_vectors, fmt=\"%.6f\")\n",
    "\n",
    "    dual_coefficients= model.dual_coef_\n",
    "    np.savetxt(f\"data/coefficients_{i}.txt\", dual_coefficients, fmt=\"%.6f\")\n",
    "    \n",
    "    intercept= model.intercept_[0]\n",
    "    with open(f\"data/biais_{i}.txt\", \"w\") as f:\n",
    "        f.write(f\"{intercept:.6f}\")\n",
    "    print(f\"Extraction terminée. Les fichier {i} ont été sauvegardés dans le dossier '/data'.\")"
   ]
  },
  {
   "cell_type": "markdown",
   "id": "b9363b13",
   "metadata": {},
   "source": [
    "# Test unitaire"
   ]
  },
  {
   "cell_type": "markdown",
   "id": "78a08f94",
   "metadata": {},
   "source": [
    "## Test sur des images aléatoires de Mnist"
   ]
  },
  {
   "cell_type": "code",
   "execution_count": 161,
   "id": "bd907cd1",
   "metadata": {},
   "outputs": [
    {
     "name": "stdout",
     "output_type": "stream",
     "text": [
      "Le vrai label est : 8\n",
      "Le label prédit est : 8\n",
      "le vecteur de test est :  [[0 0 0 0 0 0 0 0 0 0 0 0 0 0 0 0 0 0 0 0 0 0 0 0 0 0 0 0 0 0 0 0 0 0 0 0\n",
      "  0 0 0 0 0 0 0 0 0 0 0 0 0 0 0 0 0 0 0 0 0 0 0 0 0 0 0 0 0 0 0 0 0 0 0 0\n",
      "  0 0 0 0 0 0 0 0 0 0 0 0 0 0 0 0 0 0 0 0 0 0 0 0 0 0 0 0 0 0 0 0 0 0 0 0\n",
      "  0 0 0 0 0 0 0 0 0 0 0 0 0 0 0 0 0 0 0 0 0 0 0 0 0 0 0 0 0 0 0 0 0 0 0 0\n",
      "  0 0 0 0 0 0 0 0 0 0 0 0 0 1 1 1 0 0 0 0 0 0 0 0 0 0 0 0 0 0 0 0 0 0 0 0\n",
      "  0 0 1 1 1 1 1 1 1 0 0 0 0 0 0 0 0 0 0 0 0 0 0 0 0 0 0 0 1 1 1 1 1 1 1 1\n",
      "  1 0 0 0 1 1 0 0 0 0 0 0 0 0 0 0 0 0 0 0 1 1 1 1 0 0 0 0 0 0 0 1 1 1 0 0\n",
      "  0 0 0 0 0 0 0 0 0 0 0 1 1 1 0 0 0 0 0 0 0 1 1 1 1 0 0 0 0 0 0 0 0 0 0 0\n",
      "  0 0 0 1 1 0 0 0 0 0 0 1 1 1 1 1 0 0 0 0 0 0 0 0 0 0 0 0 0 0 0 1 1 0 0 0\n",
      "  0 0 1 1 1 1 0 0 0 0 0 0 0 0 0 0 0 0 0 0 0 0 0 1 1 1 0 0 1 1 1 1 1 0 0 0\n",
      "  0 0 0 0 0 0 0 0 0 0 0 0 0 0 0 0 1 1 1 1 1 1 1 0 0 0 0 0 0 0 0 0 0 0 0 0\n",
      "  0 0 0 0 0 0 0 0 1 1 1 1 0 0 0 0 0 0 0 0 0 0 0 0 0 0 0 0 0 0 0 0 0 0 0 1\n",
      "  1 1 1 1 0 0 0 0 0 0 0 0 0 0 0 0 0 0 0 0 0 0 0 0 0 0 1 1 0 0 1 1 0 0 0 0\n",
      "  0 0 0 0 0 0 0 0 0 0 0 0 0 0 0 0 0 1 1 0 0 0 1 1 0 0 0 0 0 0 0 0 0 0 0 0\n",
      "  0 0 0 0 0 0 0 0 1 1 0 0 0 0 1 1 0 0 0 0 0 0 0 0 0 0 0 0 0 0 0 0 0 0 0 1\n",
      "  1 1 0 0 0 1 1 1 0 0 0 0 0 0 0 0 0 0 0 0 0 0 0 0 0 0 0 1 1 0 0 0 1 1 1 1\n",
      "  0 0 0 0 0 0 0 0 0 0 0 0 0 0 0 0 0 0 1 1 0 0 1 1 1 1 1 0 0 0 0 0 0 0 0 0\n",
      "  0 0 0 0 0 0 0 0 0 0 1 1 1 1 1 1 1 1 0 0 0 0 0 0 0 0 0 0 0 0 0 0 0 0 0 0\n",
      "  0 0 1 1 1 1 1 1 0 0 0 0 0 0 0 0 0 0 0 0 0 0 0 0 0 0 0 0 0 0 0 0 0 0 0 0\n",
      "  0 0 0 0 0 0 0 0 0 0 0 0 0 0 0 0 0 0 0 0 0 0 0 0 0 0 0 0 0 0 0 0 0 0 0 0\n",
      "  0 0 0 0 0 0 0 0 0 0 0 0 0 0 0 0 0 0 0 0 0 0 0 0 0 0 0 0 0 0 0 0 0 0 0 0\n",
      "  0 0 0 0 0 0 0 0 0 0 0 0 0 0 0 0 0 0 0 0 0 0 0 0 0 0 0 0]]\n",
      "Le modèle a prédit le chiffre 8 avec une précision de 86.93%.\n"
     ]
    }
   ],
   "source": [
    "random_index = np.random.randint(0, len(X_test))\n",
    "test_vector = X_test[random_index].reshape(1, -1) \n",
    "true_label = y_test[random_index]\n",
    "\n",
    "predicted_label = predict_ova(svm_models, test_vector)[0]\n",
    "\n",
    "true_label, predicted_label\n",
    "print(f\"Le vrai label est : {true_label}\")\n",
    "print(f\"Le label prédit est : {predicted_label}\")\n",
    "print(\"le vecteur de test est : \",test_vector)\n",
    "print(f\"Le modèle a prédit le chiffre {predicted_label} avec une précision de {accuracy * 100:.2f}%.\")"
   ]
  },
  {
   "cell_type": "markdown",
   "id": "d0af2585",
   "metadata": {},
   "source": [
    "## Test sur une image réelle"
   ]
  },
  {
   "cell_type": "markdown",
   "id": "9abfabbc",
   "metadata": {},
   "source": [
    "### fonctions utiles pour les tests"
   ]
  },
  {
   "cell_type": "code",
   "execution_count": 163,
   "id": "26e76ab4",
   "metadata": {},
   "outputs": [],
   "source": [
    "def string_to_vector(input_string):\n",
    "    \"\"\"\n",
    "    Transforme une chaîne de caractères contenant des nombres séparés par des espaces en un vecteur Python.\n",
    "\n",
    "    :param input_string: str, chaîne de caractères avec des nombres séparés par des espaces\n",
    "    :return: list, vecteur Python contenant les nombres\n",
    "    \"\"\"\n",
    "    string_values = input_string.split()\n",
    "    vector = [int(value) for value in string_values]\n",
    "    return vector\n",
    "\n",
    "def test_binarized_vector(image_vector, svm_models):\n",
    "    \"\"\"\n",
    "    Teste un vecteur binarisé sur les modèles SVM entraînés.\n",
    "\n",
    "    :param image_vector: list or np.array, vecteur d'une image binarisée (longueur 784 pour MNIST).\n",
    "    :param svm_models: list, modèles SVM entraînés en One-vs-All.\n",
    "    :return: int, la classe prédite par le modèle.\n",
    "    \"\"\"\n",
    "    image_vector = np.array(image_vector).reshape(1, -1)\n",
    "    predicted_label = predict_ova(svm_models, image_vector)[0]\n",
    "\n",
    "    return predicted_label"
   ]
  },
  {
   "cell_type": "code",
   "execution_count": 169,
   "id": "73fc356c",
   "metadata": {},
   "outputs": [
    {
     "name": "stdout",
     "output_type": "stream",
     "text": [
      "L'image test est prédite comme étant le chiffre : 1\n"
     ]
    }
   ],
   "source": [
    "# le chiffre 1\n",
    "chiffre1 = string_to_vector(\"0 0 0 0 0 0 0 0 0 0 0 0 0 0 0 0 0 0 0 0 0 0 0 0 0 0 0 0 0 0 0 0 0 0 0 0 0 0 0 0 0 0 0 0 0 0 0 0 0 0 0 0 0 0 0 0 0 0 0 0 0 0 0 0 0 0 0 0 0 0 0 0 0 0 0 0 0 0 0 0 0 0 0 0 0 0 0 0 0 0 0 0 0 0 0 0 0 0 0 0 0 0 0 0 0 0 0 0 0 0 0 0 0 0 0 0 0 0 0 0 0 0 0 0 0 0 0 0 0 0 0 0 0 0 0 0 0 0 0 0 0 0 0 0 0 0 0 0 0 0 0 0 0 0 0 0 0 0 0 0 0 0 0 0 0 0 0 0 0 0 0 0 0 0 0 0 0 0 0 0 0 0 0 0 0 0 0 0 0 0 0 0 0 0 0 0 0 0 0 0 0 0 0 0 0 0 0 0 0 0 0 0 0 0 0 0 0 0 0 0 0 0 0 0 0 0 0 0 0 0 0 0 0 0 0 0 1 1 1 0 0 0 0 0 0 0 0 0 0 0 0 0 0 0 0 0 0 0 0 0 0 0 0 0 1 0 0 1 0 0 0 0 0 0 0 0 0 0 0 0 0 0 0 0 0 0 0 0 0 0 0 0 1 0 0 1 0 0 0 0 0 0 0 0 0 0 0 0 0 0 0 0 0 0 0 0 0 0 0 0 1 1 1 0 0 0 0 0 0 0 0 0 0 0 0 0 0 0 0 0 0 0 0 0 0 0 0 0 0 0 1 0 0 0 0 0 0 0 0 0 0 0 0 0 0 0 0 0 0 0 0 0 0 0 0 0 0 1 1 0 0 0 0 0 0 0 0 0 0 0 0 0 0 0 0 0 0 0 0 0 0 0 0 0 1 0 0 1 0 0 0 0 0 0 0 0 0 0 0 0 0 0 0 0 0 0 0 0 0 0 0 1 0 0 0 1 0 0 0 0 0 0 0 0 0 0 0 0 0 0 0 0 0 0 0 0 0 0 1 1 0 0 0 1 0 0 0 0 0 0 0 0 0 0 0 0 0 0 0 0 0 0 0 0 0 0 1 0 0 0 0 1 0 0 0 0 0 0 0 0 0 0 0 0 0 0 0 0 0 0 0 0 0 0 1 0 0 0 0 1 0 0 0 0 0 0 0 0 0 0 0 0 0 0 0 0 0 0 0 0 0 0 0 1 1 1 1 0 0 0 0 0 0 0 0 0 0 0 0 0 0 0 0 0 0 0 0 0 0 0 0 0 0 0 0 0 0 0 0 0 0 0 0 0 0 0 0 0 0 0 0 0 0 0 0 0 0 0 0 0 0 0 0 0 0 0 0 0 0 0 0 0 0 0 0 0 0 0 0 0 0 0 0 0 0 0 0 0 0 0 0 0 0 0 0 0 0 0 0 0 0 0 0 0 0 0 0 0 0 0 0 0 0 0 0 0 0 0 0 0 0 0 0 0 0 0 0 0 0 0 0 0 0 0 0 0 0 0 0 0 0 0 0 0 0 0 0 0 0 0 0 0 0 0 0 0 0 0 0 0 0 0 0 0 0 0 0 0 0 0 0 0 0 0 0 0 0 0 0 0 0 0 0 0 0 0 0 0 0 0 0 0 0 0 0 0 0 0 0 0 0 0 0 0 0 0 0 0 0 0 0 0 0 0 0 0 0 0 0 0 0 0 0 0 0 0 0 0 0 0 0 0 0 0 0 0 0 0 0 0 0 0 0 0\")\n",
    "\n",
    "real_image_vector = np.array(chiffre1).reshape(1, -1) \n",
    "\n",
    "predicted_label = predict_ova(svm_models, real_image_vector)[0]\n",
    "print(f\"L'image test est prédite comme étant le chiffre : {predicted_label}\")"
   ]
  },
  {
   "cell_type": "code",
   "execution_count": 183,
   "id": "1f9cacdd",
   "metadata": {},
   "outputs": [
    {
     "name": "stdout",
     "output_type": "stream",
     "text": [
      "L'image test est prédite comme étant le chiffre : [4]\n"
     ]
    }
   ],
   "source": [
    "# le chiffre 0\n",
    "chiffre0 = string_to_vector(\"0 0 0 0 0 0 0 0 0 0 0 0 0 0 0 0 0 0 0 0 0 0 0 0 0 0 0 0 0 0 0 0 0 0 0 0 0 0 0 0 0 0 0 0 0 0 0 0 0 0 0 0 0 0 0 0 0 0 0 0 0 0 0 0 0 0 0 0 0 0 0 0 0 0 0 0 0 0 0 0 0 0 0 0 0 0 0 0 0 0 0 0 0 0 0 0 0 0 0 0 0 0 0 0 0 0 0 0 0 0 0 0 0 0 0 0 0 0 0 0 0 0 0 0 0 0 0 0 0 0 0 0 0 0 0 0 0 0 0 0 0 0 0 0 0 0 0 0 0 0 0 0 0 0 0 0 1 1 0 0 0 0 0 0 0 0 0 0 0 0 0 0 0 0 0 0 0 0 0 0 0 1 1 1 1 1 1 0 0 0 0 0 0 0 0 0 0 0 0 0 0 0 0 0 0 0 0 1 1 1 0 0 0 0 1 1 0 0 0 0 0 0 0 0 0 0 0 0 0 0 0 0 0 0 1 1 0 0 0 0 0 0 1 1 0 0 0 0 0 0 0 0 0 0 0 0 0 0 0 0 0 0 1 0 0 0 0 0 0 0 0 1 0 0 0 0 0 0 0 0 0 0 0 0 0 0 0 0 0 1 0 0 0 0 0 0 0 0 0 1 0 0 0 0 0 0 0 0 0 0 0 0 0 0 0 0 1 1 0 0 0 0 0 0 0 0 0 1 0 0 0 0 0 0 0 0 0 0 0 0 0 0 0 0 1 0 0 0 0 0 0 0 0 0 0 1 0 0 0 0 0 0 0 0 0 0 0 0 0 0 0 0 1 0 0 0 0 0 0 0 0 0 0 1 0 0 0 0 0 0 0 0 0 0 0 0 0 0 0 1 1 0 0 0 0 0 0 0 0 0 1 1 0 0 0 0 0 0 0 0 0 0 0 0 0 0 0 1 1 0 0 0 0 0 0 0 0 0 1 0 0 0 0 0 0 0 0 0 0 0 0 0 0 0 0 1 1 1 0 0 0 0 0 0 0 1 1 0 0 0 0 0 0 0 0 0 0 0 0 0 0 0 0 0 1 1 0 0 0 0 0 0 1 1 0 0 0 0 0 0 0 0 0 0 0 0 0 0 0 0 0 0 0 1 1 1 1 1 1 1 1 0 0 0 0 0 0 0 0 0 0 0 0 0 0 0 0 0 0 0 0 0 0 1 1 1 0 0 0 0 0 0 0 0 0 0 0 0 0 0 0 0 0 0 0 0 0 0 0 0 0 0 0 0 0 0 0 0 0 0 0 0 0 0 0 0 0 0 0 0 0 0 0 0 0 0 0 0 0 0 0 0 0 0 0 0 0 0 0 0 0 0 0 0 0 0 0 0 0 0 0 0 0 0 0 0 0 0 0 0 0 0 0 0 0 0 0 0 0 0 0 0 0 0 0 0 0 0 0 0 0 0 0 0 0 0 0 0 0 0 0 0 0 0 0 0 0 0 0 0 0 0 0 0 0 0 0 0 0 0 0 0 0 0 0 0 0 0 0 0 0 0 0 0 0 0 0 0 0 0 0 0 0 0 0 0 0 0 0 0 0 0 0 0 0 0 0 0 0 0 0 0 0 0 0 0 0 0 0 0 0 0 0 0 0 0 0 0 0 0 0 0 0 0 0 0 0 0 0 0 0 0 0 0 0 0 0 0 0 0 0 0 0 0 0 0 0 0 0 0 0 0 0 0 0 0 0 0 0 0 0 0 0 0\")\n",
    "\n",
    "real_image_vector = np.array(chiffre0).reshape(1, -1) \n",
    "\n",
    "predicted_label = predict_ova(svm_models, real_image_vector)\n",
    "print(f\"L'image test est prédite comme étant le chiffre : {predicted_label}\")"
   ]
  },
  {
   "cell_type": "code",
   "execution_count": 170,
   "id": "2eac5034",
   "metadata": {},
   "outputs": [
    {
     "name": "stdout",
     "output_type": "stream",
     "text": [
      "L'image test est prédite comme étant le chiffre : 9\n"
     ]
    }
   ],
   "source": [
    "#chiffre 9\n",
    "chiffre9 = string_to_vector(\"0 0 0 0 0 0 0 0 0 0 0 0 0 0 0 0 0 0 0 0 0 0 0 0 0 0 0 0 0 0 0 0 0 0 0 0 0 0 0 0 0 0 0 0 0 0 0 0 0 0 0 0 0 0 0 0 0 0 0 0 0 0 0 0 0 0 0 0 0 0 0 0 1 1 0 0 0 0 0 0 0 0 0 0 0 0 0 0 0 0 0 0 0 0 0 0 0 0 0 1 1 1 0 0 0 0 0 0 0 0 0 0 0 0 0 0 0 0 0 0 0 0 0 0 0 0 0 1 1 0 0 0 0 0 0 0 0 0 0 0 0 0 0 0 0 0 0 0 0 0 0 0 0 0 1 1 1 0 0 0 0 0 0 0 0 0 0 0 0 0 0 0 0 0 0 0 0 0 0 0 0 1 1 1 1 0 0 0 0 0 0 0 0 0 0 0 0 0 0 0 0 0 0 0 0 0 0 0 1 1 1 0 1 0 0 0 0 0 0 0 0 0 0 0 0 0 0 0 0 0 0 0 0 0 0 0 1 1 0 1 1 0 0 0 0 0 0 0 0 0 0 0 0 0 0 0 0 0 0 0 0 0 1 1 1 0 0 1 1 0 0 0 0 0 0 0 0 0 0 0 0 0 0 0 0 0 0 0 0 0 1 1 0 0 0 1 1 0 0 0 0 0 0 0 0 0 0 0 0 0 0 0 0 0 0 0 0 1 1 0 0 0 0 1 1 0 0 0 0 0 0 0 0 0 0 0 0 0 0 0 0 0 0 0 1 1 0 0 0 0 0 1 1 0 0 0 0 0 0 0 0 0 0 0 0 0 0 0 0 0 0 1 1 0 0 0 0 0 0 1 1 0 0 0 0 0 0 0 0 0 0 0 0 0 0 0 0 0 1 1 0 0 0 0 0 0 0 1 1 0 0 0 0 0 0 0 0 0 0 0 0 0 0 0 0 1 1 0 0 0 0 0 0 0 0 1 1 0 0 0 0 0 0 0 0 0 0 0 0 0 0 0 0 0 0 0 0 0 0 0 0 0 0 1 1 0 0 0 0 0 0 0 0 0 0 0 0 0 0 0 0 0 0 0 0 0 0 0 0 0 0 1 1 0 0 0 0 0 0 0 0 0 0 0 0 0 0 0 0 0 0 0 0 0 0 0 0 0 0 1 1 0 0 0 0 0 0 0 0 0 0 0 0 0 0 0 0 0 0 0 0 0 0 0 0 0 0 1 1 0 0 0 0 0 0 0 0 0 0 0 0 0 0 0 0 0 0 0 0 0 0 0 0 0 0 1 1 0 0 0 0 0 0 0 0 0 0 0 0 0 0 0 0 0 0 0 0 0 0 0 0 0 0 1 1 0 0 0 0 0 0 0 0 0 0 0 0 0 0 0 0 0 0 0 0 0 0 0 0 0 0 1 1 0 0 0 0 0 0 0 0 0 0 0 0 0 0 0 0 0 0 0 0 0 0 0 0 0 0 1 1 0 0 0 0 0 0 0 0 0 0 0 0 0 0 0 0 0 0 0 0 0 0 0 0 0 0 1 1 0 0 0 0 0 0 0 0 0 0 0 0 0 0 0 0 0 0 0 0 0 0 0 0 0 0 0 0 0 0 0 0 0 0 0 0 0 0 0 0 0 0 0 0 0 0 0 0 0 0 0 0 0 0 0 0 0 0 0 0 0 0 0 0 0 0 0 0 0 0 0 0 0 0 0 0 0 0 0 0 0 0 0 0 0 0 0 0 0 0 0 0 0 0 0\")\n",
    "\n",
    "real_image_vector = np.array(chiffre9).reshape(1, -1) \n",
    "\n",
    "predicted_label = predict_ova(svm_models, real_image_vector)[0]\n",
    "print(f\"L'image test est prédite comme étant le chiffre : {predicted_label}\")"
   ]
  },
  {
   "cell_type": "code",
   "execution_count": 171,
   "id": "fc68a96e",
   "metadata": {},
   "outputs": [
    {
     "name": "stdout",
     "output_type": "stream",
     "text": [
      "L'image test est prédite comme étant le chiffre : 7\n"
     ]
    }
   ],
   "source": [
    "#chiffre 3\n",
    "chiffre3 = string_to_vector(\"0 0 0 0 0 0 0 0 0 0 0 0 0 0 0 0 0 0 0 0 0 0 0 0 0 0 0 0 0 0 0 0 0 0 0 0 0 0 0 0 0 0 0 0 0 0 0 0 0 0 0 0 0 0 0 0 0 0 0 0 0 0 0 0 0 0 0 0 0 0 0 0 0 0 0 0 0 0 0 0 0 0 0 0 0 0 0 0 0 0 0 0 0 0 0 0 0 0 0 0 0 0 0 0 0 0 0 0 0 0 0 0 0 0 0 0 0 0 0 0 0 0 0 0 0 0 0 0 0 0 0 0 0 0 0 0 0 0 0 0 0 0 0 0 0 0 0 0 0 0 0 0 0 0 0 0 0 0 0 0 0 0 0 0 0 0 0 0 0 0 0 0 0 0 0 0 0 0 1 1 1 1 1 0 0 0 0 0 0 0 0 0 0 0 0 0 0 0 0 0 0 0 0 0 1 1 0 0 0 1 1 1 0 0 0 0 0 0 0 0 0 0 0 0 0 0 0 0 0 0 0 0 1 0 0 0 0 0 0 1 0 0 0 0 0 0 0 0 0 0 0 0 0 0 0 0 0 0 0 0 0 0 0 0 0 0 1 1 0 0 0 0 0 0 0 0 0 0 0 0 0 0 0 0 0 0 0 0 0 0 0 0 1 1 1 0 0 0 0 0 0 0 0 0 0 0 0 0 0 0 0 0 0 0 0 0 0 0 0 1 1 1 1 0 0 0 0 0 0 0 0 0 0 0 0 0 0 0 0 0 0 0 0 0 0 0 0 0 0 0 1 1 1 0 0 0 0 0 0 0 0 0 0 0 0 0 0 0 0 0 0 0 0 0 0 0 0 0 0 0 1 1 1 0 0 0 0 0 0 0 0 0 0 0 0 0 0 0 0 0 0 0 0 0 0 0 0 0 0 1 1 0 0 0 0 0 0 0 0 0 0 0 0 0 0 0 0 0 0 0 0 0 0 0 0 0 0 1 1 0 0 0 0 0 0 0 0 0 0 0 0 0 0 0 0 0 0 0 0 0 0 0 0 0 0 0 1 0 0 0 0 0 0 0 0 0 0 0 0 0 0 0 0 0 0 0 0 0 0 0 0 0 0 1 1 0 0 0 0 0 0 0 0 0 0 0 0 0 0 0 0 0 0 0 0 0 0 0 0 0 0 1 1 0 0 0 0 0 0 0 0 0 0 0 0 0 0 0 0 0 0 0 0 0 0 0 0 0 1 1 0 0 0 0 0 0 0 0 0 0 0 0 0 0 0 0 0 0 0 0 1 1 1 1 1 1 1 0 0 0 0 0 0 0 0 0 0 0 0 0 0 0 0 0 0 0 0 0 0 0 0 0 0 0 0 0 0 0 0 0 0 0 0 0 0 0 0 0 0 0 0 0 0 0 0 0 0 0 0 0 0 0 0 0 0 0 0 0 0 0 0 0 0 0 0 0 0 0 0 0 0 0 0 0 0 0 0 0 0 0 0 0 0 0 0 0 0 0 0 0 0 0 0 0 0 0 0 0 0 0 0 0 0 0 0 0 0 0 0 0 0 0 0 0 0 0 0 0 0 0 0 0 0 0 0 0 0 0 0 0 0 0 0 0 0 0 0 0 0 0 0 0 0 0 0 0 0 0 0 0 0 0 0 0 0 0 0 0 0 0 0 0 0 0 0 0 0 0 0 0 0 0 0 0 0 0 0 0 0 0 0 0 0 0 0 0 0 0 0 0 0 0 0 0 0 0 0 0 0 0 0 0 0 0\")\n",
    "\n",
    "real_image_vector = np.array(chiffre3).reshape(1, -1) \n",
    "\n",
    "predicted_label = predict_ova(svm_models, real_image_vector)[0]\n",
    "print(f\"L'image test est prédite comme étant le chiffre : {predicted_label}\")"
   ]
  }
 ],
 "metadata": {
  "kernelspec": {
   "display_name": "vent_global",
   "language": "python",
   "name": "python3"
  },
  "language_info": {
   "codemirror_mode": {
    "name": "ipython",
    "version": 3
   },
   "file_extension": ".py",
   "mimetype": "text/x-python",
   "name": "python",
   "nbconvert_exporter": "python",
   "pygments_lexer": "ipython3",
   "version": "3.13.0"
  }
 },
 "nbformat": 4,
 "nbformat_minor": 5
}
