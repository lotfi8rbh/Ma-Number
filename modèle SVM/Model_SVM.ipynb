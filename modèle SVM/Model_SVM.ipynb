{
 "cells": [
  {
   "cell_type": "markdown",
   "id": "cfc82dd8",
   "metadata": {},
   "source": [
    "# Modèle SVM pour la reconnaissance de chiffres manuscrits\n",
    "\n",
    "Ce notebook implémente un pipeline pour entraîner un modèle SVM sur le dataset MNIST et effectuer des prédictions."
   ]
  },
  {
   "cell_type": "code",
   "execution_count": 1,
   "id": "4131634f",
   "metadata": {},
   "outputs": [],
   "source": [
    "# Importer les bibliothèques nécessaires\n",
    "from sklearn.datasets import fetch_openml\n",
    "from sklearn.model_selection import train_test_split\n",
    "from sklearn.svm import SVC\n",
    "from sklearn.metrics import classification_report, accuracy_score\n",
    "import pickle\n",
    "import numpy as np"
   ]
  },
  {
   "cell_type": "markdown",
   "id": "60bda33a",
   "metadata": {},
   "source": [
    "## Étape 1 : Télécharger et prétraiter les données MNIST"
   ]
  },
  {
   "cell_type": "code",
   "execution_count": 2,
   "id": "2d7e59ad",
   "metadata": {},
   "outputs": [],
   "source": [
    "def load_and_preprocess_data():\n",
    "    \"\"\"\n",
    "    Charger les données MNIST depuis OpenML, les binariser et les séparer en ensembles d'entraînement et de test.\n",
    "    \"\"\"\n",
    "    # Télécharger le dataset MNIST\n",
    "    mnist = fetch_openml('mnist_784', version=1)\n",
    "    X, y = mnist.data, mnist.target.astype(int)  # X : pixels, y : étiquettes\n",
    "\n",
    "    # Binariser les pixels (valeurs supérieures à 128 deviennent 1, sinon 0)\n",
    "    X = (X > 128).astype(np.float32)\n",
    "\n",
    "    # Diviser les données en ensembles d'entraînement (80%) et de validation (20%)\n",
    "    X_train, X_val, y_train, y_val = train_test_split(X, y, test_size=0.2, random_state=42, stratify=y)\n",
    "\n",
    "    return X_train, X_val, y_train, y_val"
   ]
  },
  {
   "cell_type": "markdown",
   "id": "01d66c57",
   "metadata": {},
   "source": [
    "## Étape 2 : Entraîner le modèle"
   ]
  },
  {
   "cell_type": "code",
   "execution_count": 3,
   "id": "ed115ca3",
   "metadata": {},
   "outputs": [],
   "source": [
    "def train_svm(X_train, y_train):\n",
    "    \"\"\"\n",
    "    Entraîner un modèle SVM sur les données binarisées.\n",
    "    \"\"\"\n",
    "    svm_model = SVC(kernel='rbf', gamma=0.001, C=10)\n",
    "    svm_model.fit(X_train, y_train)\n",
    "    return svm_model"
   ]
  },
  {
   "cell_type": "markdown",
   "id": "6509fef2",
   "metadata": {},
   "source": [
    "## Étape 3 : Évaluer le modèle"
   ]
  },
  {
   "cell_type": "code",
   "execution_count": 4,
   "id": "07c6d2fa",
   "metadata": {},
   "outputs": [],
   "source": [
    "def evaluate_model(model, X_val, y_val):\n",
    "    \"\"\"\n",
    "    Évaluer le modèle sur l'ensemble de validation.\n",
    "    \"\"\"\n",
    "    y_pred = model.predict(X_val)\n",
    "    accuracy = accuracy_score(y_val, y_pred)\n",
    "    print(\"Rapport de classification :\\n\", classification_report(y_val, y_pred))\n",
    "    print(f\"Précision du modèle : {accuracy:.2f}\")"
   ]
  },
  {
   "cell_type": "markdown",
   "id": "f09f947a",
   "metadata": {},
   "source": [
    "## Étape 4 : Sauvegarder le modèle"
   ]
  },
  {
   "cell_type": "code",
   "execution_count": null,
   "id": "f41360b5",
   "metadata": {},
   "outputs": [],
   "source": [
    "def save_model(model, filename='modelSVM.sav'):\n",
    "    \"\"\"\n",
    "    Sauvegarder le modèle entraîné dans un fichier.\n",
    "    \"\"\"\n",
    "    with open(filename, 'wb') as f:\n",
    "        pickle.dump(model, f)\n",
    "    print(f\"Modèle sauvegardé dans le fichier : {filename}\")"
   ]
  },
  {
   "cell_type": "markdown",
   "id": "a870993a",
   "metadata": {},
   "source": [
    "## Étape 5 : Charger le modèle et prédire"
   ]
  },
  {
   "cell_type": "code",
   "execution_count": 6,
   "id": "534dd53b",
   "metadata": {},
   "outputs": [],
   "source": [
    "def load_model(filename='finalized_model.sav'):\n",
    "    \"\"\"\n",
    "    Charger le modèle sauvegardé pour une utilisation future.\n",
    "    \"\"\"\n",
    "    with open(filename, 'rb') as f:\n",
    "        return pickle.load(f)\n",
    "\n",
    "def predict_digit(image_vector, model):\n",
    "    \"\"\"\n",
    "    Prédire un chiffre manuscrit donné un vecteur de 784 valeurs (image aplatie 28x28).\n",
    "    \"\"\"\n",
    "    prediction = model.predict([image_vector])\n",
    "    return prediction[0]"
   ]
  },
  {
   "cell_type": "markdown",
   "id": "7ea40fa0",
   "metadata": {},
   "source": [
    "## Étape 6 : Pipeline principal"
   ]
  },
  {
   "cell_type": "code",
   "execution_count": 11,
   "id": "5805f599",
   "metadata": {},
   "outputs": [
    {
     "name": "stdout",
     "output_type": "stream",
     "text": [
      "vecteurs de support:\n",
      " [[0. 0. 0. ... 0. 0. 0.]\n",
      " [0. 0. 0. ... 0. 0. 0.]\n",
      " [0. 0. 0. ... 0. 0. 0.]\n",
      " ...\n",
      " [0. 0. 0. ... 0. 0. 0.]\n",
      " [0. 0. 0. ... 0. 0. 0.]\n",
      " [0. 0. 0. ... 0. 0. 0.]]\n",
      "taille\n",
      "(12941, 784)\n",
      "coefficients de chaque classe\n",
      "coefficients:\n",
      " (9, 12941)\n",
      "taille du vecteur de biais\n",
      "bias:\n",
      " (45,)\n"
     ]
    }
   ],
   "source": [
    "filename = 'finalized_model.sav'\n",
    "model = load_model(filename)\n",
    "\n",
    "#recupérons les coefficients du svm à noyau RBF\n",
    "#vecteurs de supports\n",
    "vecteurs_supports = model.support_vectors_\n",
    "#coefficients de chaque classe\n",
    "coefficients = model.dual_coef_\n",
    "#le bias\n",
    "biais = model.intercept_\n",
    "\n",
    "print(\"vecteurs de support:\\n\",vecteurs_supports)\n",
    "print(\"taille\")\n",
    "print(vecteurs_supports.shape)\n",
    "\n",
    "print(\"coefficients de chaque classe\")\n",
    "print(\"coefficients:\\n\",coefficients.shape)\n",
    "\n",
    "print(\"taille du vecteur de biais\")\n",
    "print(\"bias:\\n\",biais.shape)\n",
    "print\n",
    "\n",
    "np.savetxt(\"vecteurs_support.txt\",vecteurs_supports)\n",
    "np.savetxt(\"coefficients.txt\",coefficients)\n",
    "np.savetxt(\"biais.txt\",biais)\n",
    "\n"
   ]
  },
  {
   "cell_type": "code",
   "execution_count": 9,
   "id": "1766dac2",
   "metadata": {},
   "outputs": [
    {
     "name": "stdout",
     "output_type": "stream",
     "text": [
      "Exemple : Le chiffre prédit est : 7\n",
      "Étiquette réelle : 7\n"
     ]
    },
    {
     "name": "stderr",
     "output_type": "stream",
     "text": [
      "/Users/raniabouzroud/Desktop/analyse et visualisation de données/venv_global/lib/python3.12/site-packages/sklearn/base.py:493: UserWarning: X does not have valid feature names, but SVC was fitted with feature names\n",
      "  warnings.warn(\n"
     ]
    }
   ],
   "source": [
    "X_train, X_val, y_train, y_val = load_and_preprocess_data()\n",
    "example_vector = X_val.iloc[0]  # Utiliser iloc pour accéder à la première ligne d'un DataFrame\n",
    "\n",
    "predicted_digit = predict_digit(example_vector, model)\n",
    "print(f\"Exemple : Le chiffre prédit est : {predicted_digit}\")\n",
    "print(f\"Étiquette réelle : {y_val.iloc[0]}\")"
   ]
  },
  {
   "cell_type": "code",
   "execution_count": null,
   "id": "e713a0ca",
   "metadata": {},
   "outputs": [],
   "source": []
  }
 ],
 "metadata": {
  "kernelspec": {
   "display_name": "venv_global",
   "language": "python",
   "name": "python3"
  },
  "language_info": {
   "codemirror_mode": {
    "name": "ipython",
    "version": 3
   },
   "file_extension": ".py",
   "mimetype": "text/x-python",
   "name": "python",
   "nbconvert_exporter": "python",
   "pygments_lexer": "ipython3",
   "version": "3.12.6"
  }
 },
 "nbformat": 4,
 "nbformat_minor": 5
}
