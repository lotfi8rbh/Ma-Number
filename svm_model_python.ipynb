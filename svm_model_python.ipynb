{
 "cells": [
  {
   "cell_type": "code",
   "execution_count": 4,
   "id": "b2cb5974-6621-46d2-85be-63ccc8b7307c",
   "metadata": {},
   "outputs": [
    {
     "name": "stdout",
     "output_type": "stream",
     "text": [
      "Chargement des données...\n"
     ]
    },
    {
     "name": "stderr",
     "output_type": "stream",
     "text": [
      "C:\\Users\\gadeu\\anaconda3\\Lib\\site-packages\\sklearn\\datasets\\_openml.py:968: FutureWarning: The default value of `parser` will change from `'liac-arff'` to `'auto'` in 1.4. You can set `parser='auto'` to silence this warning. Therefore, an `ImportError` will be raised from 1.4 if the dataset is dense and pandas is not installed. Note that the pandas parser may return different data types. See the Notes Section in fetch_openml's API doc for details.\n",
      "  warn(\n"
     ]
    },
    {
     "name": "stdout",
     "output_type": "stream",
     "text": [
      "Séparation des données en train et test...\n",
      "Normalisation\n",
      "Entrainement du modèle...\n",
      "Fin de l'entrainement\n",
      "sauvegarde du modèle\n"
     ]
    }
   ],
   "source": [
    "from sklearn.datasets import load_digits\n",
    "from sklearn.svm import SVC\n",
    "from sklearn.model_selection import train_test_split\n",
    "from sklearn.pipeline import make_pipeline\n",
    "from sklearn.preprocessing import StandardScaler\n",
    "import matplotlib.pyplot as plt\n",
    "import numpy as np\n",
    "from sklearn.model_selection import cross_val_score\n",
    "from sklearn.datasets import fetch_openml\n",
    "import pickle\n",
    "\n",
    "print('Chargement des données...')\n",
    "# Charger le dataset \"digits\"\n",
    "#digits = load_digits()\n",
    "#x, y = digits['data'], digits['target']\n",
    "mnist = fetch_openml('mnist_784', version=1)\n",
    "x, y = mnist['data'], mnist['target']\n",
    "\n",
    "#Normalisation\n",
    "x = x/255\n",
    "\n",
    "# Division des données en train et test\n",
    "print('Séparation des données en train et test...')\n",
    "x_train, x_test, y_train, y_test = train_test_split(\n",
    "    x, y, train_size = 60000,test_size=10000, random_state=42\n",
    ")\n",
    "\n",
    "# Normalisation\n",
    "print(\"Normalisation\")\n",
    "#scaler = StandardScaler()\n",
    "#x_train = scaler.fit_transform(x_train)\n",
    "#x_test = scaler.transform(x_test) \n",
    "\n",
    "print('Entrainement du modèle...')\n",
    "# Construction du pipeline pour normalisation et SVM\n",
    "model = SVC(C=5, kernel='rbf', gamma=0.001)\n",
    "model.fit(x_train, y_train)\n",
    "print(\"Fin de l'entrainement\")\n",
    "\n",
    "# Évaluation du modèle avec cross-validation\n",
    "#scores = cross_val_score(model, x_train, y_train, cv=5)\n",
    "#print(\"Scores de validation croisée : \", scores)\n",
    "#print(\"Score moyen : \", scores.mean())\n",
    "#print(x_test.shape)\n",
    "#print(y_test)\n",
    "\n",
    "print(\"sauvegarde du modèle\")\n",
    "\n",
    " \n",
    "filename = 'finalized_model.sav'\n",
    "pickle.dump(model, open(filename, 'wb'))\n",
    "\n"
   ]
  },
  {
   "cell_type": "code",
   "execution_count": 9,
   "id": "81759cec-2b70-445c-8588-12df51a9e9c8",
   "metadata": {},
   "outputs": [
    {
     "name": "stdout",
     "output_type": "stream",
     "text": [
      "vecteurs de support:\n",
      " [[0. 0. 0. ... 0. 0. 0.]\n",
      " [0. 0. 0. ... 0. 0. 0.]\n",
      " [0. 0. 0. ... 0. 0. 0.]\n",
      " ...\n",
      " [0. 0. 0. ... 0. 0. 0.]\n",
      " [0. 0. 0. ... 0. 0. 0.]\n",
      " [0. 0. 0. ... 0. 0. 0.]]\n",
      "taille\n",
      "(14447, 784)\n",
      "coefficients:\n",
      " [[ 0.          0.          0.         ... -0.         -0.\n",
      "  -0.        ]\n",
      " [ 0.          0.          5.         ... -0.         -0.\n",
      "  -1.36754528]\n",
      " [ 0.          0.          0.         ... -0.         -5.\n",
      "  -0.        ]\n",
      " ...\n",
      " [ 0.          0.          0.         ... -0.         -0.\n",
      "  -0.        ]\n",
      " [ 0.          0.          0.         ... -0.         -0.\n",
      "  -0.        ]\n",
      " [ 0.          0.          0.         ... -5.         -1.94299199\n",
      "  -0.        ]]\n",
      "bias:\n",
      " [ 0.57638115 -1.21452115 -0.5318417   0.56271783 -1.76393478  0.28083969\n",
      " -0.62770402  0.78785975  0.16280448 -2.28095315 -2.28961069  1.06946806\n",
      " -2.38327103  0.11461234 -0.61678807  3.06534261  0.5414132   1.13914563\n",
      "  2.14828731 -0.46636981  3.21276464  1.85501112  6.72823034  2.02431663\n",
      "  2.07028918 -2.90094214  1.65704444 -0.40440039  6.67010807  1.6487383\n",
      " -2.42970216 -0.35585876 -1.93910131 -0.60306931 -0.94243214  3.30103261\n",
      "  0.82275507  9.50451886  2.9359053  -0.5068642   0.44110867 -0.35724609\n",
      "  1.62143126  4.34618635 -1.5908001 ]\n"
     ]
    }
   ],
   "source": [
    "import pickle\n",
    "import numpy as np\n",
    "filename = 'finalized_model.sav'\n",
    "model = pickle.load(open(filename, 'rb'))\n",
    "\n",
    "#recupérons les coefficients du svm à noyau RBF\n",
    "#vecteurs de supports\n",
    "vecteurs_supports = model.support_vectors_\n",
    "#coefficients de chaque classe\n",
    "coefficients = model.dual_coef_\n",
    "#le bias\n",
    "biais = model.intercept_\n",
    "\n",
    "print(\"vecteurs de support:\\n\",vecteurs_supports)\n",
    "print(\"taille\")\n",
    "print(vecteurs_supports.shape)\n",
    "print(\"coefficients:\\n\",coefficients)\n",
    "print(\"bias:\\n\",biais)\n",
    "\n",
    "np.savetxt(\"vecteurs_support.txt\",vecteurs_supports)\n",
    "np.savetxt(\"coefficients.txt\",coefficients)\n",
    "np.savetxt(\"biais.txt\",biais)\n",
    "\n",
    "\n",
    "\n"
   ]
  },
  {
   "cell_type": "code",
   "execution_count": 11,
   "id": "b79907dd-31e3-4db3-87bc-e954aad47bcc",
   "metadata": {},
   "outputs": [
    {
     "name": "stdout",
     "output_type": "stream",
     "text": [
      "Label réel: 5\n",
      "Label prédit: 5\n"
     ]
    },
    {
     "name": "stderr",
     "output_type": "stream",
     "text": [
      "C:\\Users\\gadeu\\anaconda3\\Lib\\site-packages\\sklearn\\base.py:439: UserWarning: X does not have valid feature names, but SVC was fitted with feature names\n",
      "  warnings.warn(\n"
     ]
    },
    {
     "data": {
      "image/png": "[encoded data removed]",
      "text/plain": [
       "<Figure size 640x480 with 1 Axes>"
      ]
     },
     "metadata": {},
     "output_type": "display_data"
    }
   ],
   "source": [
    "prediction_index = 65\n",
    "true_label = y_test.iloc[prediction_index]  # Conversion en tableau NumPy\n",
    "#true_label = y_test[prediction_index]  # Conversion en tableau NumPy\n",
    "example = x_test.iloc[prediction_index]\n",
    "\n",
    "predicted_label = model.predict([example])[0]\n",
    "print(f\"Label réel: {true_label}\")\n",
    "print(f\"Label prédit: {predicted_label}\")\n",
    "\n",
    "# Affichage de l'image associée\n",
    "#example_image = example.reshape(28, 28)\n",
    "#plt.imshow(example_image, cmap=\"binary\", interpolation='nearest')\n",
    "#plt.axis(\"off\")\n",
    "#plt.show()\n",
    "\n",
    "# Affichage d'une image d'exemple\n",
    "plt.imshow(np.array(example).reshape(28, 28), cmap=\"binary\", interpolation='nearest')\n",
    "plt.axis(\"off\")\n",
    "\n",
    "plt.show()"
   ]
  }
 ],
 "metadata": {
  "kernelspec": {
   "display_name": "Python 3 (ipykernel)",
   "language": "python",
   "name": "python3"
  },
  "language_info": {
   "codemirror_mode": {
    "name": "ipython",
    "version": 3
   },
   "file_extension": ".py",
   "mimetype": "text/x-python",
   "name": "python",
   "nbconvert_exporter": "python",
   "pygments_lexer": "ipython3",
   "version": "3.11.7"
  }
 },
 "nbformat": 4,
 "nbformat_minor": 5
}
